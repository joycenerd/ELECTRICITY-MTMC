{
 "cells": [
  {
   "cell_type": "code",
   "execution_count": 1,
   "metadata": {},
   "outputs": [],
   "source": [
    "import numpy as np\n",
    "import torch"
   ]
  },
  {
   "cell_type": "code",
   "execution_count": 2,
   "metadata": {},
   "outputs": [
    {
     "name": "stdout",
     "output_type": "stream",
     "text": [
      "[[0.19049734 0.40059194]\n",
      " [0.8119759  0.42094139]\n",
      " [0.93476493 0.33293472]]\n"
     ]
    },
    {
     "data": {
      "text/plain": [
       "array([[0, 1],\n",
       "       [1, 0],\n",
       "       [1, 0]])"
      ]
     },
     "execution_count": 2,
     "metadata": {},
     "output_type": "execute_result"
    }
   ],
   "source": [
    "mat = np.random.rand(3,2)\n",
    "print(mat)\n",
    "np.argsort(mat, axis=1)"
   ]
  },
  {
   "cell_type": "code",
   "execution_count": 4,
   "metadata": {},
   "outputs": [
    {
     "name": "stdout",
     "output_type": "stream",
     "text": [
      "[tensor([[0.1905, 0.4006],\n",
      "        [0.8120, 0.4209],\n",
      "        [0.9348, 0.3329]], dtype=torch.float64), tensor([[0.1905, 0.4006],\n",
      "        [0.8120, 0.4209],\n",
      "        [0.9348, 0.3329]], dtype=torch.float64)]\n",
      "tensor([[0.1905, 0.4006],\n",
      "        [0.8120, 0.4209],\n",
      "        [0.9348, 0.3329],\n",
      "        [0.1905, 0.4006],\n",
      "        [0.8120, 0.4209],\n",
      "        [0.9348, 0.3329]], dtype=torch.float64)\n"
     ]
    }
   ],
   "source": [
    "mat1 =  torch.from_numpy(mat)\n",
    "mat2 = torch.from_numpy(mat)\n",
    "f = []\n",
    "f.append(mat1)\n",
    "f.append(mat2)\n",
    "print(f)\n",
    "f =  torch.cat(f, 0)\n",
    "print(f)"
   ]
  },
  {
   "cell_type": "code",
   "execution_count": 7,
   "metadata": {},
   "outputs": [
    {
     "name": "stdout",
     "output_type": "stream",
     "text": [
      "[tensor(1.), tensor(2.)]\n",
      "[1. 2.]\n"
     ]
    }
   ],
   "source": [
    "pid1 = torch.Tensor([1])\n",
    "pid2 = torch.Tensor([2])\n",
    "pids =[]\n",
    "pids.extend(pid1)\n",
    "pids.extend(pid2)\n",
    "print(pids)\n",
    "pids =np.asarray(pids)\n",
    "print(pids)"
   ]
  },
  {
   "cell_type": "code",
   "execution_count": 22,
   "metadata": {},
   "outputs": [
    {
     "name": "stdout",
     "output_type": "stream",
     "text": [
      "tensor([[ 4,  4,  4],\n",
      "        [16, 16, 16],\n",
      "        [36, 36, 36]])\n",
      "tensor([[ 4, 16, 36],\n",
      "        [ 4, 16, 36],\n",
      "        [ 4, 16, 36]])\n",
      "tensor([[ 8, 20, 40],\n",
      "        [20, 32, 52],\n",
      "        [40, 52, 72]])\n",
      "[[ 0  4 16]\n",
      " [ 4  0  4]\n",
      " [16  4  0]]\n"
     ]
    }
   ],
   "source": [
    "mat =[[1,1,1,1],[2,2,2,2],[3,3,3,3]]\n",
    "mat = np.array(mat)\n",
    "mat1 = torch.from_numpy(mat)\n",
    "mat2 = torch.from_numpy(mat)\n",
    "m, n = mat1.size(0), mat2.size(0)\n",
    "distmat = torch.pow(mat1,2).sum(dim=1, keepdim=True).expand(m,n) + \\\n",
    "          torch.pow(mat2, 2).sum(dim=1, keepdim=True).expand(n, m).t()\n",
    "print(torch.pow(mat1,2).sum(dim=1, keepdim=True).expand(m,n))\n",
    "print(torch.pow(mat2, 2).sum(dim=1, keepdim=True).expand(n, m).t())\n",
    "print(distmat)\n",
    "distmat.addmm_(1, -2, mat1, mat2.t())\n",
    "distmat = distmat.numpy()\n",
    "print(distmat)"
   ]
  },
  {
   "cell_type": "code",
   "execution_count": 24,
   "metadata": {},
   "outputs": [
    {
     "name": "stdout",
     "output_type": "stream",
     "text": [
      "[[0, 1, 2, 3, 4, 5, 6, 7, 8, 9], [0, 1, 2, 3, 4, 5, 6, 7, 8, 9]]\n",
      "[ 0  2  4  6  8 10 12 14 16 18]\n"
     ]
    }
   ],
   "source": [
    "num_list_1 = [x for x in range(10)]\n",
    "num_list_2 = [x for x in range(10)]\n",
    "num_list =  []\n",
    "num_list.append(num_list_1)\n",
    "num_list.append(num_list_2)\n",
    "print(num_list)\n",
    "num_list = np.array(num_list)\n",
    "num_list = num_list.sum(0)\n",
    "print(num_list)"
   ]
  },
  {
   "cell_type": "code",
   "execution_count": 26,
   "metadata": {},
   "outputs": [
    {
     "name": "stdout",
     "output_type": "stream",
     "text": [
      "[False  True False  True  True]\n"
     ]
    }
   ],
   "source": [
    "binary = np.asarray([True,False,True,False,False])\n",
    "bin_inv = np.invert(binary)\n",
    "print(bin_inv)"
   ]
  },
  {
   "cell_type": "code",
   "execution_count": null,
   "metadata": {},
   "outputs": [],
   "source": []
  }
 ],
 "metadata": {
  "kernelspec": {
   "display_name": "Python 3",
   "language": "python",
   "name": "python3"
  },
  "language_info": {
   "codemirror_mode": {
    "name": "ipython",
    "version": 3
   },
   "file_extension": ".py",
   "mimetype": "text/x-python",
   "name": "python",
   "nbconvert_exporter": "python",
   "pygments_lexer": "ipython3",
   "version": "3.7.7"
  }
 },
 "nbformat": 4,
 "nbformat_minor": 4
}
